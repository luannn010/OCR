{
 "cells": [
  {
   "cell_type": "markdown",
   "id": "a5032c70-b08a-46f5-9746-da416805ddd4",
   "metadata": {},
   "source": [
    "# Preprocessing\n"
   ]
  },
  {
   "cell_type": "markdown",
   "id": "e36df8b0-62d8-4226-b734-aac0c521bdd9",
   "metadata": {},
   "source": [
    "## 1. Crop images\n"
   ]
  },
  {
   "cell_type": "code",
   "execution_count": null,
   "id": "1a388229-d74c-4186-ace1-e4d838ba90e8",
   "metadata": {},
   "outputs": [],
   "source": [
    "import cv2\n",
    "import matplotlib.pyplot as plt\n",
    "\n",
    "# Load the image\n",
    "image = cv2.imread('large-receipt-image-dataset-SRD/1003-receipt.jpg')\n",
    "\n",
    "# Convert to grayscale\n",
    "gray_image = cv2.cvtColor(image, cv2.COLOR_BGR2GRAY)\n",
    "\n",
    "# Thresholding\n",
    "_, thresholded = cv2.threshold(gray_image, 240, 255, cv2.THRESH_BINARY)\n",
    "\n",
    "# Find contours\n",
    "contours, _ = cv2.findContours(thresholded, cv2.RETR_EXTERNAL, cv2.CHAIN_APPROX_SIMPLE)\n",
    "\n",
    "# Define a minimum contour area (adjust as needed)\n",
    "min_area = 1000\n",
    "\n",
    "# Filter contours based on area\n",
    "filtered_contours = [cnt for cnt in contours if cv2.contourArea(cnt) > min_area]\n",
    "\n",
    "# Draw contours on a copy of the original image\n",
    "image_with_contours = image.copy()\n",
    "cv2.drawContours(image_with_contours, filtered_contours, -1, (0, 255, 0), 2)\n",
    "\n",
    "# Display the original and modified images using Matplotlib\n",
    "fig, (ax1, ax2) = plt.subplots(1, 2, figsize=(12, 6))\n",
    "\n",
    "# Display the original image\n",
    "ax1.imshow(cv2.cvtColor(image, cv2.COLOR_BGR2RGB))\n",
    "ax1.set_title('Original Image')\n",
    "ax1.axis('off')\n",
    "\n",
    "# Display the image with contours\n",
    "ax2.imshow(cv2.cvtColor(image_with_contours, cv2.COLOR_BGR2RGB))\n",
    "ax2.set_title('Image with Contours')\n",
    "ax2.axis('off')\n",
    "\n",
    "plt.show()\n"
   ]
  },
  {
   "cell_type": "code",
   "execution_count": null,
   "id": "fa25933d-256d-4cac-9a99-9519d39d7906",
   "metadata": {},
   "outputs": [],
   "source": []
  }
 ],
 "metadata": {
  "kernelspec": {
   "display_name": "Python 3 (ipykernel)",
   "language": "python",
   "name": "python3"
  },
  "language_info": {
   "codemirror_mode": {
    "name": "ipython",
    "version": 3
   },
   "file_extension": ".py",
   "mimetype": "text/x-python",
   "name": "python",
   "nbconvert_exporter": "python",
   "pygments_lexer": "ipython3",
   "version": "3.9.18"
  }
 },
 "nbformat": 4,
 "nbformat_minor": 5
}
